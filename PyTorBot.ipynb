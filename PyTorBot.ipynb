{
 "cells": [
  {
   "cell_type": "code",
   "execution_count": null,
   "metadata": {},
   "outputs": [],
   "source": [
    "import torch"
   ]
  },
  {
   "cell_type": "code",
   "execution_count": null,
   "metadata": {},
   "outputs": [],
   "source": [
    "myjson = pandas.read_json('myjson.json')"
   ]
  },
  {
   "cell_type": "code",
   "execution_count": null,
   "metadata": {},
   "outputs": [],
   "source": [
    "#!pip install nltk"
   ]
  },
  {
   "cell_type": "code",
   "execution_count": null,
   "metadata": {},
   "outputs": [],
   "source": [
    "from nltk.tokenize import TweetTokenizer\n",
    "tokenizer = TweetTokenizer()"
   ]
  },
  {
   "cell_type": "code",
   "execution_count": null,
   "metadata": {},
   "outputs": [],
   "source": [
    "#!pip install stemming\n",
    "from stemming.porter2 import stem"
   ]
  },
  {
   "cell_type": "code",
   "execution_count": null,
   "metadata": {},
   "outputs": [],
   "source": [
    "allword = [] # list of all tokenized words\n",
    "tags = [] # list of tags\n",
    "xy = [] # list of tuples containing (tokenized words, tag)\n",
    "\n",
    "for element in myjson['list']:\n",
    "    tags.append(element['tag']) # greeting, goodbye, ...\n",
    "    for inputs in element['input']:\n",
    "        w = tokenizer.tokenize(inputs.lower()) # break sentence smaller  \n",
    "        allword.extend(w) # gather all words\n",
    "        xy.append((w,stem(element['tag']))) # words + tags\n",
    "\n",
    "tags = [stem(word) for word in tags]"
   ]
  },
  {
   "cell_type": "code",
   "execution_count": null,
   "metadata": {},
   "outputs": [],
   "source": [
    "# exclude the following\n",
    "exclude = ['?', '!', ',', '.', ':', ';']\n",
    "for x in allword:\n",
    "    if x in exclude:\n",
    "        allword.remove(x)       \n",
    "        \n",
    "allword = [stem(word) for word in allword] "
   ]
  },
  {
   "cell_type": "code",
   "execution_count": null,
   "metadata": {},
   "outputs": [],
   "source": [
    "import numpy as np\n",
    "def one_or_none(tokenized_sentence, allword):\n",
    "    mark = np.zeros(len(allword), dtype = np.float32) # mark everything 0.0\n",
    "    for indx, w in enumerate(allword):\n",
    "        if w in tokenized_sentence: # if input word is in allword\n",
    "            mark[indx] = 1.0 # mark 1.0\n",
    "    return mark"
   ]
  },
  {
   "cell_type": "code",
   "execution_count": null,
   "metadata": {},
   "outputs": [],
   "source": [
    "# optimizing the entire data generation process \n",
    "#import torch\n",
    "\n",
    "x_train = []\n",
    "y_train = []\n",
    "for tokenize_sentence, tag in xy:\n",
    "    tokenize_sentence = [stem(word) for word in tokenize_sentence]\n",
    "    mark = one_or_none(tokenize_sentence, allword) # mark 0 or 1 \n",
    "    x_train.append(mark) # list of all the 0s and 1s\n",
    "    find = tags.index(tag) # find tag of \"xy\" in \"tags\" list\n",
    "    y_train.append(find)\n",
    "\n",
    "x_train = np.array(x_train)  # run faster with np.array\n",
    "y_train = np.array(y_train)\n",
    "\n",
    "# inside xy, having \"token\" and \"tag\"   -- xy.append((w,tags))   --- xy is a list of tuple\n"
   ]
  },
  {
   "cell_type": "code",
   "execution_count": null,
   "metadata": {},
   "outputs": [],
   "source": [
    "from torch.utils.data import Dataset,  DataLoader\n",
    "\n",
    "class PyTorBotDataset(Dataset):\n",
    "    def __init__(self):\n",
    "        self.len = len(x_train)\n",
    "        self.x_data = x_train\n",
    "        self.y_data = y_train\n",
    "        \n",
    "    def __getitem__(self, index):\n",
    "        return self.x_data[index], self.y_data[index]\n",
    "    \n",
    "    def __len__(self):\n",
    "        return self.len\n",
    "    \n",
    "dataset = PyTorBotDataset()\n",
    "train_loader = DataLoader(dataset = dataset, batch_size = 100, shuffle = True, num_workers = 0)  \n",
    "\n",
    "\n",
    "# --> use in train loop\n",
    "\n",
    "# num_workers: if you data for multiple processes, specify the number of process here\n",
    "# if get errors, try num_workers = 0"
   ]
  },
  {
   "cell_type": "code",
   "execution_count": null,
   "metadata": {},
   "outputs": [],
   "source": [
    "# perception classifier p.67\n",
    "# look at the hidden layers and number of classes from the picture to see the linear layer\n",
    "\n",
    "import torch.nn as nn\n",
    "\n",
    "class NeuralNetwork(nn.Module):\n",
    "    def __init__(self, inputsize, hiddensize, outputsize):\n",
    "        super(NeuralNetwork, self).__init__() \n",
    "        self.l1 = nn.Linear(inputsize, hiddensize)\n",
    "        self.l2 = nn.Linear(hiddensize, hiddensize)\n",
    "        self.l3 = nn.Linear(hiddensize, outputsize)\n",
    "        self.relu = nn.ReLU() \n",
    "    \n",
    "    def forward(self, x):\n",
    "        out = self.l1(x)\n",
    "        out = self.relu(out)\n",
    "        \n",
    "        out = self.l2(out)\n",
    "        out = self.relu(out)\n",
    "        \n",
    "        out = self.l3(out)\n",
    "        return out\n",
    "    \n",
    "    "
   ]
  },
  {
   "cell_type": "code",
   "execution_count": null,
   "metadata": {},
   "outputs": [],
   "source": [
    "# check if device has cuda or not\n",
    "#device = torch.device('cuda' if torch.cuda.is_available() else 'cpu')\n",
    "#print(device)\n",
    "\n",
    "if torch.cuda.is_available():\n",
    "    device = torch.device('cuda')\n",
    "else:\n",
    "    device = torch.device('cpu')\n",
    "print(device)"
   ]
  },
  {
   "cell_type": "code",
   "execution_count": null,
   "metadata": {},
   "outputs": [],
   "source": [
    "outsize = len(tags)\n",
    "insize = len(allword)\n",
    "hiddensize = 8\n",
    "model = NeuralNetwork(insize, hiddensize, outsize).to(device)"
   ]
  },
  {
   "cell_type": "code",
   "execution_count": null,
   "metadata": {},
   "outputs": [],
   "source": [
    "from torch.autograd import Variable\n",
    "\n",
    "epochs = 500\n",
    "CEL = nn.CrossEntropyLoss()\n",
    "optimizer = torch.optim.Adam(model.parameters(), lr = 0.001)\n",
    "\n",
    "for epoch in range(epochs):\n",
    "    for (words, labels) in train_loader:\n",
    "       \n",
    "        # step 1: get inputs\n",
    "        words = words.to(device)\n",
    "        labels = labels.to(device)\n",
    "        \n",
    "        # step 2: zero gradients\n",
    "        optimizer.zero_grad()\n",
    "        \n",
    "        # step 3: forward pass: compute predicted y\n",
    "        y_pred = model(words)\n",
    "        \n",
    "        # step 4: compute the loss value that we wish to optimize\n",
    "        # --> expected \"labels\" have type Long but found Int \n",
    "        # cast the labels to long \n",
    "        labels = labels.to(dtype = torch.long)  \n",
    "        loss = CEL(y_pred, labels) \n",
    "        \n",
    "          \n",
    "        # step 5: propagate backward the loss\n",
    "        loss.backward()\n",
    "        \n",
    "        # step 6: update weights by using optimizer\n",
    "        optimizer.step()\n",
    "    \n",
    "    # print loss\n",
    "    if ((epoch + 1) % 100 == 0):\n",
    "        print(f'epoc {epoch+1}/{epochs}, loss = {loss.item():.4f}')\n",
    "        \n",
    "print(f'final loss = {loss.item():.4f}')"
   ]
  },
  {
   "cell_type": "code",
   "execution_count": null,
   "metadata": {},
   "outputs": [],
   "source": [
    "# save data\n",
    "alldata = {\n",
    "    \"modelstate\": model.state_dict(),\n",
    "    \"allwords\": allword,\n",
    "    \"tags\": tags,\n",
    "    \"inputsize\": insize,\n",
    "    \"hiddensize\": hiddensize,\n",
    "    \"outputsize\": outsize\n",
    "}\n",
    "\n",
    "file = \"alldata.pth\"\n",
    "torch.save(alldata, file)\n",
    "print(\"saved\")"
   ]
  },
  {
   "cell_type": "code",
   "execution_count": null,
   "metadata": {},
   "outputs": [],
   "source": [
    "# import random: random choice of possible responses\n",
    "import random\n",
    "data = torch.load(file)\n",
    "\n",
    "allwords = data[\"allwords\"]\n",
    "thistag = data[\"tags\"]\n",
    "model_state = data[\"modelstate\"]\n",
    "\n",
    "model = NeuralNetwork(data[\"inputsize\"], data[\"hiddensize\"], data[\"outputsize\"]).to(device)\n",
    "model.load_state_dict(model_state)\n",
    "model.eval()"
   ]
  },
  {
   "cell_type": "code",
   "execution_count": null,
   "metadata": {},
   "outputs": [],
   "source": [
    "botname = 'PyTorBot: '\n",
    "print(\"Hello Hello. PyTorBot is here! How can I help you? Enter 'quit' to exit\")\n",
    "while True:\n",
    "    userinput = input(\"PyTorBot's dear friend: \")\n",
    "    if userinput == 'quit':\n",
    "        break\n",
    "    userinput = tokenizer.tokenize(userinput)\n",
    "    userinput = [stem(word) for word in userinput]\n",
    "    \n",
    "    tensorx = one_or_none(userinput, allwords)\n",
    "    tensorx = tensor_x.reshape(1, tensorx.shape[0])\n",
    "    tensorx = torch.from_numpy(tensorx)\n",
    "    \n",
    "    output = model(tensorx)\n",
    "    _, predicted = torch.max(output, dim = 1)\n",
    "    tag = thistag[predicted.item()]\n",
    "    \n",
    "    probability = torch.softmax(output, dim = 1)\n",
    "    prob = probability[0][predicted.item()]\n",
    "    \n",
    "    if prob.item() > 0:\n",
    "        # check the tag in json list\n",
    "        for element in myjson[\"list\"]:\n",
    "            if tag == stem(element[\"tag\"]):\n",
    "                print(botname, random.choice(element[\"responses\"]))\n",
    "    else:\n",
    "        print(botname, \"Sorry. I don't get it. Can you help me clarify that?\")\n",
    "     \n",
    "\n",
    "    "
   ]
  },
  {
   "cell_type": "code",
   "execution_count": null,
   "metadata": {},
   "outputs": [],
   "source": []
  }
 ],
 "metadata": {
  "kernelspec": {
   "display_name": "Python 3",
   "language": "python",
   "name": "python3"
  },
  "language_info": {
   "codemirror_mode": {
    "name": "ipython",
    "version": 3
   },
   "file_extension": ".py",
   "mimetype": "text/x-python",
   "name": "python",
   "nbconvert_exporter": "python",
   "pygments_lexer": "ipython3",
   "version": "3.8.5"
  }
 },
 "nbformat": 4,
 "nbformat_minor": 4
}
